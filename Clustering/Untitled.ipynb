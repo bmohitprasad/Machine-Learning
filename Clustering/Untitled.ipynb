{
 "cells": [
  {
   "cell_type": "code",
   "execution_count": 82,
   "id": "2ec80e34-3152-43d0-ac49-ebed42a6d1ac",
   "metadata": {},
   "outputs": [],
   "source": [
    "import pandas as pd\n",
    "import numpy as np\n",
    "import matplotlib.pyplot as plt"
   ]
  },
  {
   "cell_type": "code",
   "execution_count": 83,
   "id": "614c590c-4f06-454e-82aa-7fe4f747361e",
   "metadata": {},
   "outputs": [],
   "source": [
    "df = pd.read_csv(\"dataset/Mall_customers.csv\")"
   ]
  },
  {
   "cell_type": "code",
   "execution_count": 84,
   "id": "20933abc-8e0a-43b6-8afb-bf29142a1018",
   "metadata": {},
   "outputs": [
    {
     "data": {
      "text/html": [
       "<div>\n",
       "<style scoped>\n",
       "    .dataframe tbody tr th:only-of-type {\n",
       "        vertical-align: middle;\n",
       "    }\n",
       "\n",
       "    .dataframe tbody tr th {\n",
       "        vertical-align: top;\n",
       "    }\n",
       "\n",
       "    .dataframe thead th {\n",
       "        text-align: right;\n",
       "    }\n",
       "</style>\n",
       "<table border=\"1\" class=\"dataframe\">\n",
       "  <thead>\n",
       "    <tr style=\"text-align: right;\">\n",
       "      <th></th>\n",
       "      <th>CustomerID</th>\n",
       "      <th>Gender</th>\n",
       "      <th>Age</th>\n",
       "      <th>Annual Income (k$)</th>\n",
       "      <th>Spending Score (1-100)</th>\n",
       "    </tr>\n",
       "  </thead>\n",
       "  <tbody>\n",
       "    <tr>\n",
       "      <th>0</th>\n",
       "      <td>1</td>\n",
       "      <td>Male</td>\n",
       "      <td>19</td>\n",
       "      <td>15</td>\n",
       "      <td>39</td>\n",
       "    </tr>\n",
       "    <tr>\n",
       "      <th>1</th>\n",
       "      <td>2</td>\n",
       "      <td>Male</td>\n",
       "      <td>21</td>\n",
       "      <td>15</td>\n",
       "      <td>81</td>\n",
       "    </tr>\n",
       "    <tr>\n",
       "      <th>2</th>\n",
       "      <td>3</td>\n",
       "      <td>Female</td>\n",
       "      <td>20</td>\n",
       "      <td>16</td>\n",
       "      <td>6</td>\n",
       "    </tr>\n",
       "    <tr>\n",
       "      <th>3</th>\n",
       "      <td>4</td>\n",
       "      <td>Female</td>\n",
       "      <td>23</td>\n",
       "      <td>16</td>\n",
       "      <td>77</td>\n",
       "    </tr>\n",
       "    <tr>\n",
       "      <th>4</th>\n",
       "      <td>5</td>\n",
       "      <td>Female</td>\n",
       "      <td>31</td>\n",
       "      <td>17</td>\n",
       "      <td>40</td>\n",
       "    </tr>\n",
       "  </tbody>\n",
       "</table>\n",
       "</div>"
      ],
      "text/plain": [
       "   CustomerID  Gender  Age  Annual Income (k$)  Spending Score (1-100)\n",
       "0           1    Male   19                  15                      39\n",
       "1           2    Male   21                  15                      81\n",
       "2           3  Female   20                  16                       6\n",
       "3           4  Female   23                  16                      77\n",
       "4           5  Female   31                  17                      40"
      ]
     },
     "execution_count": 84,
     "metadata": {},
     "output_type": "execute_result"
    }
   ],
   "source": [
    "df.head()"
   ]
  },
  {
   "cell_type": "code",
   "execution_count": 85,
   "id": "0082495b-8bc1-4ff8-965c-46541a6a1447",
   "metadata": {},
   "outputs": [
    {
     "name": "stdout",
     "output_type": "stream",
     "text": [
      "<class 'pandas.core.frame.DataFrame'>\n",
      "RangeIndex: 200 entries, 0 to 199\n",
      "Data columns (total 5 columns):\n",
      " #   Column                  Non-Null Count  Dtype \n",
      "---  ------                  --------------  ----- \n",
      " 0   CustomerID              200 non-null    int64 \n",
      " 1   Gender                  200 non-null    object\n",
      " 2   Age                     200 non-null    int64 \n",
      " 3   Annual Income (k$)      200 non-null    int64 \n",
      " 4   Spending Score (1-100)  200 non-null    int64 \n",
      "dtypes: int64(4), object(1)\n",
      "memory usage: 7.9+ KB\n"
     ]
    }
   ],
   "source": [
    "df.info()"
   ]
  },
  {
   "cell_type": "code",
   "execution_count": 86,
   "id": "9704420b-b5fc-4b12-a0c4-143cce3b849c",
   "metadata": {},
   "outputs": [],
   "source": [
    "unique = df['Gender'].unique()\n",
    "to_int = {date: i for i, date in enumerate(unique)}\n",
    "df['Gender'] = df['Gender'].map(to_int)"
   ]
  },
  {
   "cell_type": "code",
   "execution_count": 87,
   "id": "6294d5a9-fbe8-4b97-8928-06b706c5a01e",
   "metadata": {},
   "outputs": [
    {
     "name": "stdout",
     "output_type": "stream",
     "text": [
      "<class 'pandas.core.frame.DataFrame'>\n",
      "RangeIndex: 200 entries, 0 to 199\n",
      "Data columns (total 5 columns):\n",
      " #   Column                  Non-Null Count  Dtype\n",
      "---  ------                  --------------  -----\n",
      " 0   CustomerID              200 non-null    int64\n",
      " 1   Gender                  200 non-null    int64\n",
      " 2   Age                     200 non-null    int64\n",
      " 3   Annual Income (k$)      200 non-null    int64\n",
      " 4   Spending Score (1-100)  200 non-null    int64\n",
      "dtypes: int64(5)\n",
      "memory usage: 7.9 KB\n"
     ]
    }
   ],
   "source": [
    "df.info()"
   ]
  },
  {
   "cell_type": "code",
   "execution_count": 88,
   "id": "b0228e0c-2e79-4d8e-a7f4-281a3f602f66",
   "metadata": {},
   "outputs": [],
   "source": [
    "df_train = df.iloc[:150 , :]\n",
    "df_test = df.iloc[150: , :]"
   ]
  },
  {
   "cell_type": "code",
   "execution_count": 89,
   "id": "df6a4dd8-fcd2-4f26-a317-db9d416ab60b",
   "metadata": {},
   "outputs": [],
   "source": [
    "X_train = df_train.iloc[:, 2:4].values\n",
    "X_test = df_test.iloc[:, 2:4].values"
   ]
  },
  {
   "cell_type": "code",
   "execution_count": 90,
   "id": "0cc6f820-ab37-4785-bd0d-73c2f6398444",
   "metadata": {},
   "outputs": [],
   "source": [
    "class KMeans:\n",
    "    def __init__(self, n_clusters=3, max_iter=300, tol=1e-4, random_state=None, init='k-means++'):\n",
    "        self.n_clusters = n_clusters\n",
    "        self.max_iter = max_iter\n",
    "        self.tol = tol\n",
    "        self.random_state = random_state\n",
    "        self.centroids = None\n",
    "        self.labels_ = None\n",
    "        self.init = init\n",
    "\n",
    "    def _initialize_centroids_kmeans_pp(self, X):\n",
    "        np.random.seed(self.random_state)\n",
    "        n_samples, n_features = X.shape\n",
    "        \n",
    "        centroids = np.empty((self.n_clusters, n_features), dtype=X.dtype)\n",
    "        first_idx = np.random.choice(n_samples)\n",
    "        centroids[0] = X[first_idx]\n",
    "        \n",
    "        closest_dist_sq = np.full(n_samples, np.inf)\n",
    "        \n",
    "        for c_id in range(1, self.n_clusters):\n",
    "            dist_to_new_centroid = np.linalg.norm(X - centroids[c_id-1], axis=1) ** 2\n",
    "            closest_dist_sq = np.minimum(closest_dist_sq, dist_to_new_centroid)\n",
    "            \n",
    "            probabilities = closest_dist_sq / closest_dist_sq.sum()\n",
    "            next_idx = np.random.choice(n_samples, p=probabilities)\n",
    "            centroids[c_id] = X[next_idx]\n",
    "        \n",
    "        return centroids\n",
    "\n",
    "    def fit(self, X):\n",
    "        if isinstance(X, pd.DataFrame):\n",
    "            X = X.values\n",
    "    \n",
    "        self._store_X(X)  # store X for inertia\n",
    "    \n",
    "        np.random.seed(self.random_state)\n",
    "        \n",
    "        if self.init == 'k-means++':\n",
    "            self.centroids = self._initialize_centroids_kmeans_pp(X)\n",
    "        else:\n",
    "            initial_centroid_indices = np.random.choice(X.shape[0], self.n_clusters, replace=False)\n",
    "            self.centroids = X[initial_centroid_indices]\n",
    "\n",
    "        for _ in range(self.max_iter):\n",
    "            distances = np.linalg.norm(X[:, np.newaxis] - self.centroids, axis=2)\n",
    "            labels = np.argmin(distances, axis=1)\n",
    "\n",
    "            new_centroids = np.array([\n",
    "                X[labels == i].mean(axis=0) if len(X[labels == i]) > 0 else self.centroids[i]\n",
    "                for i in range(self.n_clusters)\n",
    "            ])\n",
    "\n",
    "            if np.linalg.norm(new_centroids - self.centroids) < self.tol:\n",
    "                break\n",
    "            \n",
    "            self.centroids = new_centroids\n",
    "        \n",
    "        self.labels_ = labels\n",
    "\n",
    "    def predict(self, X):\n",
    "        if isinstance(X, pd.DataFrame):\n",
    "            X = X.values\n",
    "        distances = np.linalg.norm(X[:, np.newaxis] - self.centroids, axis=2)\n",
    "        return np.argmin(distances, axis=1)\n",
    "\n",
    "    def fit_predict(self, X):\n",
    "        self.fit(X)\n",
    "        return self.labels_\n",
    "\n",
    "    def cluster_centers_(self):\n",
    "        return self.centroids\n",
    "\n",
    "    @property\n",
    "    def inertia_(self):\n",
    "        if self.centroids is None or self.labels_ is None:\n",
    "            raise ValueError(\"Model has not been fitted yet.\")\n",
    "        wcss = 0.0\n",
    "        for i in range(self.n_clusters):\n",
    "            cluster_points = self.X[self.labels_ == i]\n",
    "            if len(cluster_points) > 0:\n",
    "                distances = np.linalg.norm(cluster_points - self.centroids[i], axis=1)\n",
    "                wcss += np.sum(distances ** 2)\n",
    "        return wcss\n",
    "\n",
    "    def _store_X(self, X):\n",
    "        # Internal helper to store X for inertia calculation\n",
    "        self.X = X\n"
   ]
  },
  {
   "cell_type": "code",
   "execution_count": 91,
   "id": "32e92de5-782d-495b-b47a-a10493865e22",
   "metadata": {},
   "outputs": [
    {
     "name": "stdout",
     "output_type": "stream",
     "text": [
      "Clusters: 1, WCSS: 85591.52\n",
      "Clusters: 2, WCSS: 58955.53995601172\n",
      "Clusters: 3, WCSS: 26511.982258482258\n",
      "Clusters: 4, WCSS: 21405.414522469397\n",
      "Clusters: 5, WCSS: 16387.234126984127\n",
      "Clusters: 6, WCSS: 12354.613266968263\n",
      "Clusters: 7, WCSS: 12049.956951469583\n",
      "Clusters: 8, WCSS: 12196.40198801743\n",
      "Clusters: 9, WCSS: 9270.047201336676\n"
     ]
    }
   ],
   "source": [
    "wcss = []\n",
    "\n",
    "for i in range(1, 10):\n",
    "    kmeans = KMeans(n_clusters=i, init='k-means++', random_state=42)\n",
    "    kmeans.fit(X_train)\n",
    "    print(f'Clusters: {i}, WCSS: {kmeans.inertia_}')\n",
    "    wcss.append(kmeans.inertia_)"
   ]
  },
  {
   "cell_type": "code",
   "execution_count": 92,
   "id": "86c37f5d-18f3-4e66-94e5-97359f78f065",
   "metadata": {},
   "outputs": [
    {
     "data": {
      "image/png": "[encoded data removed]",
      "text/plain": [
       "<Figure size 640x480 with 1 Axes>"
      ]
     },
     "metadata": {},
     "output_type": "display_data"
    }
   ],
   "source": [
    "plt.plot(range(1, 10), wcss)\n",
    "plt.show()"
   ]
  },
  {
   "cell_type": "code",
   "execution_count": 93,
   "id": "68b932cd-35d9-458b-9931-b97eaac152c0",
   "metadata": {},
   "outputs": [],
   "source": [
    "kmeans = KMeans(n_clusters = 6, init = 'k-means++', random_state = 42)\n",
    "kmeans.fit(X_train)"
   ]
  },
  {
   "cell_type": "code",
   "execution_count": 94,
   "id": "1315b099-31cf-4406-9554-1937e303f3a5",
   "metadata": {},
   "outputs": [
    {
     "name": "stdout",
     "output_type": "stream",
     "text": [
      "[[64.63157895 54.68421053]\n",
      " [45.32258065 64.09677419]\n",
      " [27.43478261 21.        ]\n",
      " [25.96774194 68.77419355]\n",
      " [25.71428571 42.52380952]\n",
      " [51.8        35.28      ]]\n"
     ]
    }
   ],
   "source": [
    "print(kmeans.cluster_centers_())"
   ]
  },
  {
   "cell_type": "code",
   "execution_count": 95,
   "id": "9b96a72c-edde-4933-ba11-537ca8e0bc18",
   "metadata": {},
   "outputs": [],
   "source": [
    "y_pred = kmeans.predict(X_test)"
   ]
  },
  {
   "cell_type": "code",
   "execution_count": 96,
   "id": "557295d1-f322-4cfe-8bef-2d0397a2e4bc",
   "metadata": {},
   "outputs": [
    {
     "data": {
      "text/plain": [
       "array([1, 1, 1, 3, 1, 3, 3, 3, 3, 3, 1, 3, 3, 3, 1, 3, 1, 3, 3, 3, 3, 3,\n",
       "       3, 3, 1, 3, 1, 3, 1, 3, 3, 3, 1, 3, 3, 3, 1, 3, 3, 3, 3, 3, 3, 3,\n",
       "       3, 3, 3, 3, 3, 3], dtype=int64)"
      ]
     },
     "execution_count": 96,
     "metadata": {},
     "output_type": "execute_result"
    }
   ],
   "source": [
    "y_pred"
   ]
  },
  {
   "cell_type": "code",
   "execution_count": 97,
   "id": "e23ab873-fbfb-48d1-9eac-77475fa8838c",
   "metadata": {},
   "outputs": [],
   "source": [
    "def accuracy(y_true, y_pred):\n",
    "    return np.mean(y_true == y_pred)\n",
    "\n",
    "def precision(y_true, y_pred):\n",
    "    tp = np.sum((y_pred == 1) & (y_true == 1))\n",
    "    fp = np.sum((y_pred == 1) & (y_true == 0))\n",
    "    return tp / (tp + fp) if (tp + fp) > 0 else 0\n",
    "\n",
    "def recall(y_true, y_pred):\n",
    "    tp = np.sum((y_pred == 1) & (y_true == 1))\n",
    "    fn = np.sum((y_pred == 0) & (y_true == 1))\n",
    "    return tp / (tp + fn) if (tp + fn) > 0 else 0\n",
    "\n",
    "def f1_score(y_true, y_pred):\n",
    "    p = precision(y_true, y_pred)\n",
    "    r = recall(y_true, y_pred)\n",
    "    return 2 * p * r / (p + r) if (p + r) > 0 else 0"
   ]
  },
  {
   "cell_type": "code",
   "execution_count": 81,
   "id": "37c3ca7e-c02a-4e84-bf9d-e42fb12db549",
   "metadata": {},
   "outputs": [
    {
     "ename": "NameError",
     "evalue": "name 'y_test' is not defined",
     "output_type": "error",
     "traceback": [
      "\u001b[1;31m---------------------------------------------------------------------------\u001b[0m",
      "\u001b[1;31mNameError\u001b[0m                                 Traceback (most recent call last)",
      "Cell \u001b[1;32mIn[81], line 1\u001b[0m\n\u001b[1;32m----> 1\u001b[0m \u001b[38;5;28mprint\u001b[39m(\u001b[38;5;124m\"\u001b[39m\u001b[38;5;124mAccuracy:\u001b[39m\u001b[38;5;124m\"\u001b[39m, accuracy(y_test, y_pred))\n\u001b[0;32m      2\u001b[0m \u001b[38;5;28mprint\u001b[39m(\u001b[38;5;124m\"\u001b[39m\u001b[38;5;124mPrecision:\u001b[39m\u001b[38;5;124m\"\u001b[39m, precision(y_test, y_pred))\n\u001b[0;32m      3\u001b[0m \u001b[38;5;28mprint\u001b[39m(\u001b[38;5;124m\"\u001b[39m\u001b[38;5;124mRecall:\u001b[39m\u001b[38;5;124m\"\u001b[39m, recall(y_test, y_pred))\n",
      "\u001b[1;31mNameError\u001b[0m: name 'y_test' is not defined"
     ]
    }
   ],
   "source": [
    "print(\"Accuracy:\", accuracy(y_test, y_pred))\n",
    "print(\"Precision:\", precision(y_test, y_pred))\n",
    "print(\"Recall:\", recall(y_test, y_pred))\n",
    "print(\"F1 Score:\", f1_score(y_test, y_pred))"
   ]
  },
  {
   "cell_type": "code",
   "execution_count": null,
   "id": "c685c631-abf7-40ae-a6d7-3de84f238d05",
   "metadata": {},
   "outputs": [],
   "source": []
  }
 ],
 "metadata": {
  "kernelspec": {
   "display_name": "Python [conda env:base] *",
   "language": "python",
   "name": "conda-base-py"
  },
  "language_info": {
   "codemirror_mode": {
    "name": "ipython",
    "version": 3
   },
   "file_extension": ".py",
   "mimetype": "text/x-python",
   "name": "python",
   "nbconvert_exporter": "python",
   "pygments_lexer": "ipython3",
   "version": "3.12.7"
  }
 },
 "nbformat": 4,
 "nbformat_minor": 5
}

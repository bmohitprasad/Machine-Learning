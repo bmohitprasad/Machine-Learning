{
 "cells": [
  {
   "cell_type": "code",
   "execution_count": 205,
   "id": "15a38ddc-22a9-4ab9-b854-6d54f0bcd12b",
   "metadata": {},
   "outputs": [],
   "source": [
    "import pandas as pd\n",
    "import numpy as np\n",
    "import matplotlib.pyplot as plt"
   ]
  },
  {
   "cell_type": "code",
   "execution_count": 206,
   "id": "2af076c9-65cd-404f-86ad-5ba289f0c61e",
   "metadata": {},
   "outputs": [
    {
     "data": {
      "text/html": [
       "<div>\n",
       "<style scoped>\n",
       "    .dataframe tbody tr th:only-of-type {\n",
       "        vertical-align: middle;\n",
       "    }\n",
       "\n",
       "    .dataframe tbody tr th {\n",
       "        vertical-align: top;\n",
       "    }\n",
       "\n",
       "    .dataframe thead th {\n",
       "        text-align: right;\n",
       "    }\n",
       "</style>\n",
       "<table border=\"1\" class=\"dataframe\">\n",
       "  <thead>\n",
       "    <tr style=\"text-align: right;\">\n",
       "      <th></th>\n",
       "      <th>date</th>\n",
       "      <th>close</th>\n",
       "      <th>volume</th>\n",
       "      <th>open</th>\n",
       "      <th>high</th>\n",
       "      <th>low</th>\n",
       "    </tr>\n",
       "  </thead>\n",
       "  <tbody>\n",
       "    <tr>\n",
       "      <th>0</th>\n",
       "      <td>15-10-2018</td>\n",
       "      <td>259.59</td>\n",
       "      <td>6189026</td>\n",
       "      <td>259.06</td>\n",
       "      <td>263.28</td>\n",
       "      <td>254.5367</td>\n",
       "    </tr>\n",
       "    <tr>\n",
       "      <th>1</th>\n",
       "      <td>12-10-2018</td>\n",
       "      <td>258.78</td>\n",
       "      <td>7189257</td>\n",
       "      <td>261.00</td>\n",
       "      <td>261.99</td>\n",
       "      <td>252.0100</td>\n",
       "    </tr>\n",
       "    <tr>\n",
       "      <th>2</th>\n",
       "      <td>11-10-2018</td>\n",
       "      <td>252.23</td>\n",
       "      <td>8128184</td>\n",
       "      <td>257.53</td>\n",
       "      <td>262.25</td>\n",
       "      <td>249.0300</td>\n",
       "    </tr>\n",
       "    <tr>\n",
       "      <th>3</th>\n",
       "      <td>10-10-2018</td>\n",
       "      <td>256.88</td>\n",
       "      <td>12781560</td>\n",
       "      <td>264.61</td>\n",
       "      <td>265.51</td>\n",
       "      <td>247.7700</td>\n",
       "    </tr>\n",
       "    <tr>\n",
       "      <th>4</th>\n",
       "      <td>09-10-2018</td>\n",
       "      <td>262.80</td>\n",
       "      <td>12037780</td>\n",
       "      <td>255.25</td>\n",
       "      <td>266.77</td>\n",
       "      <td>253.3000</td>\n",
       "    </tr>\n",
       "  </tbody>\n",
       "</table>\n",
       "</div>"
      ],
      "text/plain": [
       "         date   close    volume    open    high       low\n",
       "0  15-10-2018  259.59   6189026  259.06  263.28  254.5367\n",
       "1  12-10-2018  258.78   7189257  261.00  261.99  252.0100\n",
       "2  11-10-2018  252.23   8128184  257.53  262.25  249.0300\n",
       "3  10-10-2018  256.88  12781560  264.61  265.51  247.7700\n",
       "4  09-10-2018  262.80  12037780  255.25  266.77  253.3000"
      ]
     },
     "execution_count": 206,
     "metadata": {},
     "output_type": "execute_result"
    }
   ],
   "source": [
    "df = pd.read_csv('dataset/tesla-stock-price.csv')\n",
    "df.head()"
   ]
  },
  {
   "cell_type": "code",
   "execution_count": 207,
   "id": "738c2d3f-1cbd-4445-8046-18718db446bb",
   "metadata": {},
   "outputs": [
    {
     "data": {
      "text/plain": [
       "date       object\n",
       "close     float64\n",
       "volume      int64\n",
       "open      float64\n",
       "high      float64\n",
       "low       float64\n",
       "dtype: object"
      ]
     },
     "execution_count": 207,
     "metadata": {},
     "output_type": "execute_result"
    }
   ],
   "source": [
    "df.dtypes"
   ]
  },
  {
   "cell_type": "code",
   "execution_count": 208,
   "id": "baa89143-e0d1-4207-a227-516522e64b3c",
   "metadata": {},
   "outputs": [],
   "source": [
    "unique_dates = df['date'].unique()\n",
    "date_to_int = {date: i for i, date in enumerate(unique_dates)}\n",
    "df['date'] = df['date'].map(date_to_int)"
   ]
  },
  {
   "cell_type": "code",
   "execution_count": 209,
   "id": "afd672ee-ce7c-484f-aee9-4a61ed0dfea6",
   "metadata": {},
   "outputs": [
    {
     "data": {
      "text/html": [
       "<div>\n",
       "<style scoped>\n",
       "    .dataframe tbody tr th:only-of-type {\n",
       "        vertical-align: middle;\n",
       "    }\n",
       "\n",
       "    .dataframe tbody tr th {\n",
       "        vertical-align: top;\n",
       "    }\n",
       "\n",
       "    .dataframe thead th {\n",
       "        text-align: right;\n",
       "    }\n",
       "</style>\n",
       "<table border=\"1\" class=\"dataframe\">\n",
       "  <thead>\n",
       "    <tr style=\"text-align: right;\">\n",
       "      <th></th>\n",
       "      <th>date</th>\n",
       "      <th>close</th>\n",
       "      <th>volume</th>\n",
       "      <th>open</th>\n",
       "      <th>high</th>\n",
       "      <th>low</th>\n",
       "    </tr>\n",
       "  </thead>\n",
       "  <tbody>\n",
       "    <tr>\n",
       "      <th>0</th>\n",
       "      <td>0</td>\n",
       "      <td>259.59</td>\n",
       "      <td>6189026</td>\n",
       "      <td>259.06</td>\n",
       "      <td>263.2800</td>\n",
       "      <td>254.5367</td>\n",
       "    </tr>\n",
       "    <tr>\n",
       "      <th>1</th>\n",
       "      <td>1</td>\n",
       "      <td>258.78</td>\n",
       "      <td>7189257</td>\n",
       "      <td>261.00</td>\n",
       "      <td>261.9900</td>\n",
       "      <td>252.0100</td>\n",
       "    </tr>\n",
       "    <tr>\n",
       "      <th>2</th>\n",
       "      <td>2</td>\n",
       "      <td>252.23</td>\n",
       "      <td>8128184</td>\n",
       "      <td>257.53</td>\n",
       "      <td>262.2500</td>\n",
       "      <td>249.0300</td>\n",
       "    </tr>\n",
       "    <tr>\n",
       "      <th>3</th>\n",
       "      <td>3</td>\n",
       "      <td>256.88</td>\n",
       "      <td>12781560</td>\n",
       "      <td>264.61</td>\n",
       "      <td>265.5100</td>\n",
       "      <td>247.7700</td>\n",
       "    </tr>\n",
       "    <tr>\n",
       "      <th>4</th>\n",
       "      <td>4</td>\n",
       "      <td>262.80</td>\n",
       "      <td>12037780</td>\n",
       "      <td>255.25</td>\n",
       "      <td>266.7700</td>\n",
       "      <td>253.3000</td>\n",
       "    </tr>\n",
       "    <tr>\n",
       "      <th>...</th>\n",
       "      <td>...</td>\n",
       "      <td>...</td>\n",
       "      <td>...</td>\n",
       "      <td>...</td>\n",
       "      <td>...</td>\n",
       "      <td>...</td>\n",
       "    </tr>\n",
       "    <tr>\n",
       "      <th>751</th>\n",
       "      <td>751</td>\n",
       "      <td>210.09</td>\n",
       "      <td>4177956</td>\n",
       "      <td>211.99</td>\n",
       "      <td>214.8100</td>\n",
       "      <td>208.8000</td>\n",
       "    </tr>\n",
       "    <tr>\n",
       "      <th>752</th>\n",
       "      <td>752</td>\n",
       "      <td>213.03</td>\n",
       "      <td>14877020</td>\n",
       "      <td>227.72</td>\n",
       "      <td>228.6000</td>\n",
       "      <td>202.0000</td>\n",
       "    </tr>\n",
       "    <tr>\n",
       "      <th>753</th>\n",
       "      <td>753</td>\n",
       "      <td>228.10</td>\n",
       "      <td>2506836</td>\n",
       "      <td>226.50</td>\n",
       "      <td>231.1500</td>\n",
       "      <td>224.9400</td>\n",
       "    </tr>\n",
       "    <tr>\n",
       "      <th>754</th>\n",
       "      <td>754</td>\n",
       "      <td>227.01</td>\n",
       "      <td>4327574</td>\n",
       "      <td>223.04</td>\n",
       "      <td>230.4805</td>\n",
       "      <td>222.8700</td>\n",
       "    </tr>\n",
       "    <tr>\n",
       "      <th>755</th>\n",
       "      <td>755</td>\n",
       "      <td>221.31</td>\n",
       "      <td>2835920</td>\n",
       "      <td>216.43</td>\n",
       "      <td>221.7300</td>\n",
       "      <td>213.7000</td>\n",
       "    </tr>\n",
       "  </tbody>\n",
       "</table>\n",
       "<p>756 rows × 6 columns</p>\n",
       "</div>"
      ],
      "text/plain": [
       "     date   close    volume    open      high       low\n",
       "0       0  259.59   6189026  259.06  263.2800  254.5367\n",
       "1       1  258.78   7189257  261.00  261.9900  252.0100\n",
       "2       2  252.23   8128184  257.53  262.2500  249.0300\n",
       "3       3  256.88  12781560  264.61  265.5100  247.7700\n",
       "4       4  262.80  12037780  255.25  266.7700  253.3000\n",
       "..    ...     ...       ...     ...       ...       ...\n",
       "751   751  210.09   4177956  211.99  214.8100  208.8000\n",
       "752   752  213.03  14877020  227.72  228.6000  202.0000\n",
       "753   753  228.10   2506836  226.50  231.1500  224.9400\n",
       "754   754  227.01   4327574  223.04  230.4805  222.8700\n",
       "755   755  221.31   2835920  216.43  221.7300  213.7000\n",
       "\n",
       "[756 rows x 6 columns]"
      ]
     },
     "execution_count": 209,
     "metadata": {},
     "output_type": "execute_result"
    }
   ],
   "source": [
    "df"
   ]
  },
  {
   "cell_type": "code",
   "execution_count": 210,
   "id": "60a24c83-010b-4a15-b87e-f638f38d1ec7",
   "metadata": {},
   "outputs": [
    {
     "data": {
      "text/plain": [
       "date        int64\n",
       "close     float64\n",
       "volume      int64\n",
       "open      float64\n",
       "high      float64\n",
       "low       float64\n",
       "dtype: object"
      ]
     },
     "execution_count": 210,
     "metadata": {},
     "output_type": "execute_result"
    }
   ],
   "source": [
    "df.dtypes"
   ]
  },
  {
   "cell_type": "code",
   "execution_count": 211,
   "id": "7004bc1e-d801-477a-8db7-b0e37faf9278",
   "metadata": {},
   "outputs": [
    {
     "name": "stdout",
     "output_type": "stream",
     "text": [
      "['date', 'close', 'volume', 'open', 'high', 'low']\n"
     ]
    }
   ],
   "source": [
    "col_list = list(df.columns)\n",
    "print(col_list)"
   ]
  },
  {
   "cell_type": "code",
   "execution_count": 212,
   "id": "99f071c8-b25c-4e43-9a85-791c83a35e79",
   "metadata": {},
   "outputs": [
    {
     "data": {
      "text/plain": [
       "date      0\n",
       "close     0\n",
       "volume    0\n",
       "open      0\n",
       "high      0\n",
       "low       0\n",
       "dtype: int64"
      ]
     },
     "execution_count": 212,
     "metadata": {},
     "output_type": "execute_result"
    }
   ],
   "source": [
    "df.isnull().sum()"
   ]
  },
  {
   "cell_type": "code",
   "execution_count": 213,
   "id": "f849cafc-2759-4a45-96bb-fc15f0030110",
   "metadata": {},
   "outputs": [
    {
     "data": {
      "text/html": [
       "<div>\n",
       "<style scoped>\n",
       "    .dataframe tbody tr th:only-of-type {\n",
       "        vertical-align: middle;\n",
       "    }\n",
       "\n",
       "    .dataframe tbody tr th {\n",
       "        vertical-align: top;\n",
       "    }\n",
       "\n",
       "    .dataframe thead th {\n",
       "        text-align: right;\n",
       "    }\n",
       "</style>\n",
       "<table border=\"1\" class=\"dataframe\">\n",
       "  <thead>\n",
       "    <tr style=\"text-align: right;\">\n",
       "      <th></th>\n",
       "      <th>date</th>\n",
       "      <th>close</th>\n",
       "      <th>volume</th>\n",
       "      <th>open</th>\n",
       "      <th>high</th>\n",
       "      <th>low</th>\n",
       "    </tr>\n",
       "  </thead>\n",
       "  <tbody>\n",
       "    <tr>\n",
       "      <th>count</th>\n",
       "      <td>756.000000</td>\n",
       "      <td>756.000000</td>\n",
       "      <td>7.560000e+02</td>\n",
       "      <td>756.000000</td>\n",
       "      <td>756.000000</td>\n",
       "      <td>756.000000</td>\n",
       "    </tr>\n",
       "    <tr>\n",
       "      <th>mean</th>\n",
       "      <td>377.500000</td>\n",
       "      <td>272.648466</td>\n",
       "      <td>6.148865e+06</td>\n",
       "      <td>272.771585</td>\n",
       "      <td>277.127065</td>\n",
       "      <td>268.025041</td>\n",
       "    </tr>\n",
       "    <tr>\n",
       "      <th>std</th>\n",
       "      <td>218.382692</td>\n",
       "      <td>58.417181</td>\n",
       "      <td>3.848086e+06</td>\n",
       "      <td>58.487749</td>\n",
       "      <td>59.233832</td>\n",
       "      <td>57.553428</td>\n",
       "    </tr>\n",
       "    <tr>\n",
       "      <th>min</th>\n",
       "      <td>0.000000</td>\n",
       "      <td>143.670000</td>\n",
       "      <td>7.102770e+05</td>\n",
       "      <td>142.320000</td>\n",
       "      <td>154.970000</td>\n",
       "      <td>141.050000</td>\n",
       "    </tr>\n",
       "    <tr>\n",
       "      <th>25%</th>\n",
       "      <td>188.750000</td>\n",
       "      <td>219.552500</td>\n",
       "      <td>3.781980e+06</td>\n",
       "      <td>219.627500</td>\n",
       "      <td>222.526750</td>\n",
       "      <td>216.055000</td>\n",
       "    </tr>\n",
       "    <tr>\n",
       "      <th>50%</th>\n",
       "      <td>377.500000</td>\n",
       "      <td>277.650000</td>\n",
       "      <td>5.097901e+06</td>\n",
       "      <td>277.692500</td>\n",
       "      <td>280.949950</td>\n",
       "      <td>273.775000</td>\n",
       "    </tr>\n",
       "    <tr>\n",
       "      <th>75%</th>\n",
       "      <td>566.250000</td>\n",
       "      <td>322.722500</td>\n",
       "      <td>7.210924e+06</td>\n",
       "      <td>321.797500</td>\n",
       "      <td>327.152500</td>\n",
       "      <td>316.565075</td>\n",
       "    </tr>\n",
       "    <tr>\n",
       "      <th>max</th>\n",
       "      <td>755.000000</td>\n",
       "      <td>385.000000</td>\n",
       "      <td>3.359729e+07</td>\n",
       "      <td>386.690000</td>\n",
       "      <td>389.610000</td>\n",
       "      <td>379.345000</td>\n",
       "    </tr>\n",
       "  </tbody>\n",
       "</table>\n",
       "</div>"
      ],
      "text/plain": [
       "             date       close        volume        open        high  \\\n",
       "count  756.000000  756.000000  7.560000e+02  756.000000  756.000000   \n",
       "mean   377.500000  272.648466  6.148865e+06  272.771585  277.127065   \n",
       "std    218.382692   58.417181  3.848086e+06   58.487749   59.233832   \n",
       "min      0.000000  143.670000  7.102770e+05  142.320000  154.970000   \n",
       "25%    188.750000  219.552500  3.781980e+06  219.627500  222.526750   \n",
       "50%    377.500000  277.650000  5.097901e+06  277.692500  280.949950   \n",
       "75%    566.250000  322.722500  7.210924e+06  321.797500  327.152500   \n",
       "max    755.000000  385.000000  3.359729e+07  386.690000  389.610000   \n",
       "\n",
       "              low  \n",
       "count  756.000000  \n",
       "mean   268.025041  \n",
       "std     57.553428  \n",
       "min    141.050000  \n",
       "25%    216.055000  \n",
       "50%    273.775000  \n",
       "75%    316.565075  \n",
       "max    379.345000  "
      ]
     },
     "execution_count": 213,
     "metadata": {},
     "output_type": "execute_result"
    }
   ],
   "source": [
    "df.describe()"
   ]
  },
  {
   "cell_type": "code",
   "execution_count": 214,
   "id": "08f31811-4ae0-4a87-82ea-dda1baa4741b",
   "metadata": {},
   "outputs": [],
   "source": [
    "# df['target'] = (df['close'].shift(-1) > df['close']).astype(int)\n",
    "# df.dropna(inplace=True)"
   ]
  },
  {
   "cell_type": "code",
   "execution_count": 215,
   "id": "03dc369b-eb8a-4186-81f3-cacfbc7467fe",
   "metadata": {},
   "outputs": [],
   "source": [
    "X = df.drop(columns = 'close').values    #all the input columns\n",
    "y = df['close'].values  #the output column"
   ]
  },
  {
   "cell_type": "code",
   "execution_count": 216,
   "id": "c587c5cd-6e19-4daa-8ac8-d6e9af6b209a",
   "metadata": {},
   "outputs": [],
   "source": [
    "# Normalize features\n",
    "X = (X - X.mean(axis=0)) / X.std(axis=0)"
   ]
  },
  {
   "cell_type": "code",
   "execution_count": 217,
   "id": "c863f6bc-8a38-4337-9611-5eea4719fc2c",
   "metadata": {},
   "outputs": [],
   "source": [
    "def train_test_split(X, y, test_size=0.3):\n",
    "    split_index = int((1 - test_size) * len(X))\n",
    "    return X[:split_index], X[split_index:], y[:split_index], y[split_index:]\n",
    "\n",
    "X_train, X_test, y_train, y_test = train_test_split(X, y)"
   ]
  },
  {
   "cell_type": "code",
   "execution_count": 218,
   "id": "f8d150b6-f6bd-4566-aa20-d6e366071bc3",
   "metadata": {},
   "outputs": [],
   "source": [
    "def add_bias(X):\n",
    "    return np.c_[np.ones((X.shape[0], 1)), X]\n",
    "\n",
    "X_train = add_bias(X_train)\n",
    "X_test = add_bias(X_test)"
   ]
  },
  {
   "cell_type": "code",
   "execution_count": 219,
   "id": "7f4df3ee-2729-4f40-9707-f6efca5c03e0",
   "metadata": {
    "scrolled": true
   },
   "outputs": [
    {
     "data": {
      "text/plain": [
       "array([[ 1.        , -1.72976125,  0.01044359, -0.23459037, -0.2339243 ,\n",
       "        -0.23451724],\n",
       "       [ 1.        , -1.7251791 ,  0.27054513, -0.20139908, -0.25571681,\n",
       "        -0.27844812],\n",
       "       [ 1.        , -1.72059695,  0.51470509, -0.26076702, -0.25132452,\n",
       "        -0.33026037],\n",
       "       ...,\n",
       "       [ 1.        ,  0.68044913, -0.66719485, -1.29534321, -1.32844902,\n",
       "        -1.29661107],\n",
       "       [ 1.        ,  0.68503128, -0.63315308, -1.33058758, -1.27981286,\n",
       "        -1.28530974],\n",
       "       [ 1.        ,  0.68961342, -0.62283334, -1.26061211, -1.30429143,\n",
       "        -1.2922644 ]])"
      ]
     },
     "execution_count": 219,
     "metadata": {},
     "output_type": "execute_result"
    }
   ],
   "source": [
    "X_train"
   ]
  },
  {
   "cell_type": "code",
   "execution_count": 220,
   "id": "53a3e34f-1b7e-4973-a2ea-decd38212f35",
   "metadata": {},
   "outputs": [
    {
     "data": {
      "text/plain": [
       "array([[ 1.        ,  0.69419557, -0.72202382, -1.25274201, -1.30479823,\n",
       "        -1.24601588],\n",
       "       [ 1.        ,  0.69877772, -0.6529503 , -1.15094395, -1.19318678,\n",
       "        -1.1703839 ],\n",
       "       [ 1.        ,  0.70335987, -0.45836777, -1.26180973, -1.24803634,\n",
       "        -1.20011509],\n",
       "       ...,\n",
       "       [ 1.        ,  1.72059695, -0.94707853, -0.7916567 , -0.77670991,\n",
       "        -0.74910507],\n",
       "       [ 1.        ,  1.7251791 , -0.47361114, -0.85085355, -0.78802005,\n",
       "        -0.78509546],\n",
       "       [ 1.        ,  1.72976125, -0.86150304, -0.96394349, -0.93584593,\n",
       "        -0.94453116]])"
      ]
     },
     "execution_count": 220,
     "metadata": {},
     "output_type": "execute_result"
    }
   ],
   "source": [
    "X_test"
   ]
  },
  {
   "cell_type": "code",
   "execution_count": 221,
   "id": "3e2f1637-88de-4f36-9692-45a1118101c6",
   "metadata": {},
   "outputs": [],
   "source": [
    "class Node:\n",
    "    def __init__(self, depth, max_depth=None):\n",
    "        self.depth = depth\n",
    "        self.max_depth = max_depth\n",
    "        self.feature_index = None\n",
    "        self.threshold = None\n",
    "        self.value = None\n",
    "        self.left = None\n",
    "        self.right = None"
   ]
  },
  {
   "cell_type": "code",
   "execution_count": 222,
   "id": "5f75e635-8e26-45ab-bee7-f36d896f8875",
   "metadata": {},
   "outputs": [],
   "source": [
    "def calculate_mse(y):\n",
    "    if len(y) == 0:\n",
    "        return 0\n",
    "    mean = np.mean(y)\n",
    "    return np.mean((y - mean) ** 2)"
   ]
  },
  {
   "cell_type": "code",
   "execution_count": 223,
   "id": "89261c65-a701-4e65-9a66-f95261bd99bc",
   "metadata": {},
   "outputs": [],
   "source": [
    "# Split the data based on a given feature and threshold\n",
    "def split_data(X, y, feature_index, threshold):\n",
    "    left_mask = X[:, feature_index] <= threshold\n",
    "    right_mask = ~left_mask\n",
    "    return X[left_mask], X[right_mask], y[left_mask], y[right_mask]"
   ]
  },
  {
   "cell_type": "code",
   "execution_count": 224,
   "id": "fae0d41d-e54d-4c0a-9dee-a456cdc44711",
   "metadata": {},
   "outputs": [],
   "source": [
    "# Find the best split for a node\n",
    "def find_best_split(X, y):\n",
    "    m, n = X.shape\n",
    "    if m <= 1:\n",
    "        return None, None\n",
    "    \n",
    "    best_mse = float('inf')\n",
    "    best_feature = None\n",
    "    best_threshold = None\n",
    "    \n",
    "    for feature_index in range(n):\n",
    "        thresholds = np.unique(X[:, feature_index])\n",
    "        for threshold in thresholds:\n",
    "            X_left, X_right, y_left, y_right = split_data(X, y, feature_index, threshold)\n",
    "            mse = calculate_mse(y_left) + calculate_mse(y_right)\n",
    "            if mse < best_mse:\n",
    "                best_mse = mse\n",
    "                best_feature = feature_index\n",
    "                best_threshold = threshold\n",
    "        \n",
    "    return best_feature, best_threshold"
   ]
  },
  {
   "cell_type": "code",
   "execution_count": 230,
   "id": "a10105b9-9653-43d8-8914-8ffa2008f823",
   "metadata": {},
   "outputs": [],
   "source": [
    "# Build the decision tree recursively\n",
    "def build_tree(X, y, depth, max_depth=None):\n",
    "    if depth == max_depth or len(np.unique(y)) == 1:\n",
    "        leaf = Node(depth, max_depth)\n",
    "        leaf.value = np.mean(y)\n",
    "        return leaf\n",
    "    \n",
    "    feature_index, threshold = find_best_split(X, y)\n",
    "    \n",
    "    if feature_index is None:\n",
    "        leaf = Node(depth, max_depth)\n",
    "        leaf.value = np.mean(y)\n",
    "        return leaf\n",
    "    \n",
    "    node = Node(depth, max_depth)\n",
    "    node.feature_index = feature_index\n",
    "    node.threshold = threshold\n",
    "    \n",
    "    X_left, X_right, y_left, y_right = split_data(X, y, feature_index, threshold)\n",
    "    \n",
    "    node.left = build_tree(X_left, y_left, depth + 1, max_depth)\n",
    "    node.right = build_tree(X_right, y_right, depth + 1, max_depth)\n",
    "    \n",
    "    return node"
   ]
  },
  {
   "cell_type": "code",
   "execution_count": 231,
   "id": "be44d75f-b115-4567-8d83-a57d1608206d",
   "metadata": {},
   "outputs": [],
   "source": [
    "# Make predictions for a single data point\n",
    "def predict_sample(tree, x):\n",
    "    if tree.left is None and tree.right is None:\n",
    "        return tree.value\n",
    "\n",
    "    if x[tree.feature_index] <= tree.threshold:\n",
    "        return predict_sample(tree.left, x)\n",
    "    else:\n",
    "        return predict_sample(tree.right, x)\n",
    "\n",
    "# Make predictions for a set of data points\n",
    "def predict(tree, X):\n",
    "    return np.array([predict_sample(tree, x) for x in X])"
   ]
  },
  {
   "cell_type": "code",
   "execution_count": 232,
   "id": "f057fede-702d-4ac1-9ab7-f15d4def55f5",
   "metadata": {},
   "outputs": [
    {
     "name": "stderr",
     "output_type": "stream",
     "text": [
      "C:\\Users\\mohit\\anaconda3\\Lib\\site-packages\\numpy\\core\\fromnumeric.py:3504: RuntimeWarning: Mean of empty slice.\n",
      "  return _methods._mean(a, axis=axis, dtype=dtype,\n",
      "C:\\Users\\mohit\\anaconda3\\Lib\\site-packages\\numpy\\core\\_methods.py:129: RuntimeWarning: invalid value encountered in scalar divide\n",
      "  ret = ret.dtype.type(ret / rcount)\n"
     ]
    }
   ],
   "source": [
    "# Split the data into training and testing sets\n",
    "X_train, X_test, y_train, y_test = train_test_split(X, y, test_size=0.2)\n",
    "\n",
    "# Build the decision tree\n",
    "max_depth = 5 # Set the maximum depth of the tree\n",
    "tree = build_tree(X_train, y_train, depth=0, max_depth=max_depth)\n",
    "\n",
    "# Make predictions on the test set\n",
    "y_pred = predict(tree, X_test)"
   ]
  },
  {
   "cell_type": "code",
   "execution_count": 233,
   "id": "9c6d0398-1e39-41c3-a418-a30842a2e47f",
   "metadata": {},
   "outputs": [
    {
     "name": "stdout",
     "output_type": "stream",
     "text": [
      "Mean Squared Error (MSE): 97.3069\n",
      "Mean Absolute Error (MAE): 6.3271\n",
      "R² Score: 0.9747\n"
     ]
    }
   ],
   "source": [
    "mse = np.mean((y_test - y_pred) ** 2)\n",
    "\n",
    "mae = np.mean(np.abs(y_test - y_pred))\n",
    "\n",
    "ss_total = np.sum((y_test - np.mean(y)) ** 2)\n",
    "ss_res = np.sum((y_test - y_pred) ** 2)\n",
    "r2 = 1 - (ss_res / ss_total)\n",
    "\n",
    "print(f\"Mean Squared Error (MSE): {mse:.4f}\")\n",
    "print(f\"Mean Absolute Error (MAE): {mae:.4f}\")\n",
    "print(f\"R² Score: {r2:.4f}\")"
   ]
  },
  {
   "cell_type": "code",
   "execution_count": 234,
   "id": "b7ef00bb-d0dc-4bee-98e2-42e440f6e07a",
   "metadata": {},
   "outputs": [
    {
     "data": {
      "image/png": "[encoded data removed]",
      "text/plain": [
       "<Figure size 1200x600 with 1 Axes>"
      ]
     },
     "metadata": {},
     "output_type": "display_data"
    }
   ],
   "source": [
    "plt.figure(figsize=(12, 6))\n",
    "plt.plot(y_test, label='Actual Close')\n",
    "plt.plot(y_pred, label='Predicted Close', linestyle='--')\n",
    "plt.xlabel('Samples')\n",
    "plt.ylabel('Close Price')\n",
    "plt.legend()\n",
    "plt.title('Decison Tree Regression - Actual vs Predicted')\n",
    "plt.show()"
   ]
  },
  {
   "cell_type": "code",
   "execution_count": null,
   "id": "8b221daf-a01f-43dd-b4cd-1502f2dcd716",
   "metadata": {},
   "outputs": [],
   "source": []
  },
  {
   "cell_type": "code",
   "execution_count": null,
   "id": "a29a27ee-4f1f-4b7a-ba18-c38304114738",
   "metadata": {},
   "outputs": [],
   "source": []
  },
  {
   "cell_type": "code",
   "execution_count": null,
   "id": "f7be0120-0a8b-4f2c-826d-9006f1e1c544",
   "metadata": {},
   "outputs": [],
   "source": []
  }
 ],
 "metadata": {
  "kernelspec": {
   "display_name": "Python [conda env:base] *",
   "language": "python",
   "name": "conda-base-py"
  },
  "language_info": {
   "codemirror_mode": {
    "name": "ipython",
    "version": 3
   },
   "file_extension": ".py",
   "mimetype": "text/x-python",
   "name": "python",
   "nbconvert_exporter": "python",
   "pygments_lexer": "ipython3",
   "version": "3.12.7"
  }
 },
 "nbformat": 4,
 "nbformat_minor": 5
}
